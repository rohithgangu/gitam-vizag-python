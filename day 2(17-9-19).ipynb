{
 "cells": [
  {
   "cell_type": "code",
   "execution_count": 1,
   "metadata": {},
   "outputs": [
    {
     "name": "stdout",
     "output_type": "stream",
     "text": [
      "enter a number:10\n",
      "1 2 3 4 5 6 7 8 9 10 "
     ]
    }
   ],
   "source": [
    "#print numbers from 1 to n\n",
    "# input n=10\n",
    "# output=1 2 3 4 ...10\n",
    "n=int(input(\"enter a number:\"))\n",
    "i=1\n",
    "while i<=n:\n",
    "    print(i,end=\" \")\n",
    "    i=i+1\n"
   ]
  },
  {
   "cell_type": "code",
   "execution_count": 4,
   "metadata": {
    "scrolled": true
   },
   "outputs": [
    {
     "name": "stdout",
     "output_type": "stream",
     "text": [
      "enter an number:30\n",
      "240\n"
     ]
    }
   ],
   "source": [
    "n=int(input(\"enter an number:\"))\n",
    "i=2\n",
    "a=0\n",
    "while i <= n:\n",
    "    a = a+i\n",
    "    i=i+2\n",
    "print(a)    "
   ]
  },
  {
   "cell_type": "code",
   "execution_count": 3,
   "metadata": {},
   "outputs": [
    {
     "name": "stdout",
     "output_type": "stream",
     "text": [
      "enter an number:123\n",
      "3 2 1 "
     ]
    }
   ],
   "source": [
    "a=int(input(\"enter an number:\"))\n",
    "while a!=0:\n",
    "    print(a%10,end=\" \")\n",
    "    a=a//10"
   ]
  },
  {
   "cell_type": "code",
   "execution_count": 14,
   "metadata": {},
   "outputs": [
    {
     "name": "stdout",
     "output_type": "stream",
     "text": [
      "enter a number1324\n"
     ]
    },
    {
     "data": {
      "text/plain": [
       "6"
      ]
     },
     "execution_count": 14,
     "metadata": {},
     "output_type": "execute_result"
    }
   ],
   "source": [
    "# functional programming\n",
    "def evendigitsm(a):\n",
    "    s=0\n",
    "    a=int(input(\"enter a number\"))\n",
    "    while a!=0:\n",
    "        r=a%10\n",
    "        if r%2==0:\n",
    "            s=s+r\n",
    "        a=a//10\n",
    "    return s\n",
    "evendigitsm(a)\n"
   ]
  },
  {
   "cell_type": "code",
   "execution_count": 15,
   "metadata": {},
   "outputs": [
    {
     "name": "stdout",
     "output_type": "stream",
     "text": [
      "enter a number:951753\n"
     ]
    },
    {
     "data": {
      "text/plain": [
       "9"
      ]
     },
     "execution_count": 15,
     "metadata": {},
     "output_type": "execute_result"
    }
   ],
   "source": [
    "def largedgt(n):\n",
    "    lar=0\n",
    "    n=int(input(\"enter a number:\"))\n",
    "    while n!=0:\n",
    "        r=n%10\n",
    "        if lar<r:\n",
    "            lar=r\n",
    "        n=n//10\n",
    "    return lar\n",
    "largedgt(n)\n",
    "        \n",
    "        \n"
   ]
  },
  {
   "cell_type": "code",
   "execution_count": 44,
   "metadata": {},
   "outputs": [
    {
     "name": "stdout",
     "output_type": "stream",
     "text": [
      "enter a num145\n",
      "yes\n"
     ]
    }
   ],
   "source": [
    "def fact(r):\n",
    "    f=1\n",
    "    i=1\n",
    "    while i<=r:\n",
    "        f=f*i\n",
    "        i=i+1\n",
    "    return f\n",
    "def yesrno(n):\n",
    "    s=0\n",
    "    n=int(input(\"enter a num\"))\n",
    "    b=n\n",
    "    while n!=0:\n",
    "        r=n%10\n",
    "        s+=fact(r)\n",
    "        n=n//10\n",
    "    if s==b:\n",
    "        return \"yes\"\n",
    "    else:\n",
    "        return \"no\"\n",
    "    return\n",
    "print(yesrno(n))"
   ]
  },
  {
   "cell_type": "code",
   "execution_count": 46,
   "metadata": {},
   "outputs": [
    {
     "name": "stdout",
     "output_type": "stream",
     "text": [
      "100\n",
      "102\n",
      "104\n",
      "106\n",
      "108\n",
      "110\n",
      "112\n",
      "114\n",
      "116\n",
      "118\n",
      "120\n"
     ]
    }
   ],
   "source": [
    "def altnum(l,u):\n",
    "    for x in range (l,u+1,2):\n",
    "        \n",
    "        print (x)\n",
    "altnum(100,120)    \n"
   ]
  },
  {
   "cell_type": "code",
   "execution_count": null,
   "metadata": {},
   "outputs": [],
   "source": []
  }
 ],
 "metadata": {
  "kernelspec": {
   "display_name": "Python 3",
   "language": "python",
   "name": "python3"
  },
  "language_info": {
   "codemirror_mode": {
    "name": "ipython",
    "version": 3
   },
   "file_extension": ".py",
   "mimetype": "text/x-python",
   "name": "python",
   "nbconvert_exporter": "python",
   "pygments_lexer": "ipython3",
   "version": "3.7.3"
  }
 },
 "nbformat": 4,
 "nbformat_minor": 2
}
